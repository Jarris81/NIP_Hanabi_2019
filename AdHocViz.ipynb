{
 "cells": [
  {
   "cell_type": "code",
   "execution_count": null,
   "metadata": {},
   "outputs": [],
   "source": [
    "import matplotlib.pyplot as plt\n",
    "import numpy as np\n",
    "\n",
    "from agents.rainbow_adhoc_player import RainbowAdHocRLPlayer\n",
    "from simulate_adhoc_game import AdHocExperiment"
   ]
  },
  {
   "cell_type": "code",
   "execution_count": null,
   "metadata": {},
   "outputs": [],
   "source": [
    "# AdHoc experiment\n",
    "num_players = 4\n",
    "rainbow_version = \"custom_r1\"\n",
    "rainbow_version = \"custom_r1\"\n",
    "rainbow_version = \"custom_r1\"\n",
    "rainbow_version = \"custom_r1\"\n",
    "\n",
    "game_type = \"Hanabi-Full\"\n",
    "observation_size = 1041\n",
    "max_moves = 38\n",
    "\n",
    "agents = [RainbowAdHocRLPlayer(observation_size, num_players, max_moves, rainbow_version), \n",
    "            RainbowAdHocRLPlayer(observation_size, num_players, max_moves, rainbow_version),\n",
    "            RainbowAdHocRLPlayer(observation_size, num_players, max_moves, rainbow_version),\n",
    "            RainbowAdHocRLPlayer(observation_size, num_players, max_moves, rainbow_version)\n",
    "         ]\n",
    "\n",
    "xp = AdHocExperiment(game_type, agents)"
   ]
  },
  {
   "cell_type": "code",
   "execution_count": null,
   "metadata": {},
   "outputs": [],
   "source": []
  },
  {
   "cell_type": "code",
   "execution_count": null,
   "metadata": {},
   "outputs": [],
   "source": []
  }
 ],
 "metadata": {
  "kernelspec": {
   "display_name": "Python 3",
   "language": "python",
   "name": "python3"
  },
  "language_info": {
   "codemirror_mode": {
    "name": "ipython",
    "version": 3
   },
   "file_extension": ".py",
   "mimetype": "text/x-python",
   "name": "python",
   "nbconvert_exporter": "python",
   "pygments_lexer": "ipython3",
   "version": "3.6.7"
  }
 },
 "nbformat": 4,
 "nbformat_minor": 2
}
