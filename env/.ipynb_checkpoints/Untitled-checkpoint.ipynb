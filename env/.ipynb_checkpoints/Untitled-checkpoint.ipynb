{
 "cells": [
  {
   "cell_type": "code",
   "execution_count": 1,
   "metadata": {},
   "outputs": [
    {
     "name": "stdout",
     "output_type": "stream",
     "text": [
      "\n",
      "WARNING: The TensorFlow contrib module will not be included in TensorFlow 2.0.\n",
      "For more information, please see:\n",
      "  * https://github.com/tensorflow/community/blob/master/rfcs/20180907-contrib-sunset.md\n",
      "  * https://github.com/tensorflow/addons\n",
      "If you depend on functionality not listed there, please file an issue.\n",
      "\n"
     ]
    }
   ],
   "source": [
    "# Copyright 2018 Google LLC\n",
    "#\n",
    "# Licensed under the Apache License, Version 2.0 (the \"License\");\n",
    "# you may not use this file except in compliance with the License.\n",
    "# You may obtain a copy of the License at\n",
    "#\n",
    "#    https://www.apache.org/licenses/LICENSE-2.0\n",
    "#\n",
    "# Unless required by applicable law or agreed to in writing, software\n",
    "# distributed under the License is distributed on an \"AS IS\" BASIS,\n",
    "# WITHOUT WARRANTIES OR CONDITIONS OF ANY KIND, either express or implied.\n",
    "# See the License for the specific language governing permissions and\n",
    "# limitations under the License.\n",
    "\"\"\"A simple episode runner using the RL environment.\"\"\"\n",
    "\n",
    "from __future__ import print_function\n",
    "\n",
    "import sys\n",
    "sys.path.append(\"/home/jason/Documents/TU/NIP_Hanabi_2019/env/agents/rainbow\") # go to parent dir\n",
    "\n",
    "from agents.rainbow import replay_memory\n",
    "import getopt\n",
    "import rl_env\n",
    "from agents.random_agent import RandomAgent\n",
    "from agents.simple_agent import SimpleAgent\n",
    "from agents.rainbow.dqn_agent import DQNAgent\n",
    "from agents.rule_based_agent import RuleBasedAgent\n",
    "from agents.rainbow import replay_memory\n",
    "import numpy as np\n",
    "import matplotlib.pyplot as plt\n",
    "\n",
    "sys.path.append(\"/home/jason/Documents/TU/NIP_Hanabi_2019/env/agents/rainbow\") # go to parent dir\n",
    "\n",
    "AGENT_CLASSES = {'SimpleAgent': SimpleAgent, 'RandomAgent': RandomAgent, 'DQN': DQNAgent, 'RuleBaseAgent': RuleBasedAgent}\n",
    "\n",
    "colors = [\"green\", \"blue\", \"red\", \"orange\"]\n",
    "\n",
    "class Runner(object):\n",
    "    \"\"\"Runner class.\"\"\"\n",
    "\n",
    "    def __init__(self, flags):\n",
    "        \"\"\"Initialize runner.\"\"\"\n",
    "        self.flags = flags\n",
    "        self.agent_config = {'players': flags['players']}\n",
    "        self.environment = rl_env.make('Hanabi-Full', num_players=flags['players'])\n",
    "        self.agent_class = AGENT_CLASSES[flags['agent_class']]\n",
    "\n",
    "    def run(self):\n",
    "        \"\"\"Run episodes or games.\"\"\"\n",
    "        scores = []\n",
    "        for episode in range(flags['num_episodes']):\n",
    "            observations = self.environment.reset()\n",
    "            agents = [self.agent_class(self.agent_config['players'])\n",
    "                      for _ in range(self.flags['players'])]\n",
    "            done = False\n",
    "            while not done:\n",
    "                for agent_id, agent in enumerate(agents):\n",
    "\n",
    "                    observation = observations['player_observations'][agent_id]\n",
    "\n",
    "                    if observation['current_player'] == agent_id:\n",
    "                        action = agent.act(observation)\n",
    "                        assert action is not None\n",
    "                        current_player_action = action\n",
    "                    else:\n",
    "                        action = agent.act(observation)\n",
    "                        assert action is None\n",
    "                # Make an environment step.\n",
    "                observations, reward, done, unused_info = self.environment.step(\n",
    "                    current_player_action)\n",
    "\n",
    "            # get the score of the game\n",
    "            score = 0\n",
    "            for color, rank in observation['fireworks'].items():\n",
    "                score = score + rank\n",
    "            #print(\"Score of game: {}\".format(score))\n",
    "            scores.append(score)\n",
    "\n",
    "        #print(\"Played {} games with {} players\".format(flags['num_episodes'], flags['players']))\n",
    "        scores = np.array(scores)\n",
    "        #print('Avg. Score is {} and Std. is {}'.format(scores.mean(), scores.std()))\n",
    "\n",
    "        return scores\n",
    "\n",
    "\n",
    "flags = {'players': 2, 'num_episodes': 1000, 'agent_class': 'RuleBaseAgent'}\n",
    "\n",
    "all_scores = np.zeros((flags['num_episodes'], 4))\n",
    "\n",
    "for num_players in range(4):\n",
    "\n",
    "    flags['players'] = num_players+2\n",
    "    runner = Runner(flags)\n",
    "    all_scores[:, num_players] = runner.run()"
   ]
  },
  {
   "cell_type": "code",
   "execution_count": 20,
   "metadata": {},
   "outputs": [
    {
     "data": {
      "image/png": "[encoded data removed]",
      "text/plain": [
       "<Figure size 1440x216 with 1 Axes>"
      ]
     },
     "metadata": {
      "needs_background": "light"
     },
     "output_type": "display_data"
    }
   ],
   "source": [
    "    # create bar chart showing avg. scores\n",
    "    fig = plt.figure(figsize=(20,4))\n",
    "    \n",
    "    \n",
    "    y_labels = range(2, 6)\n",
    "    rects = plt.barh(y_labels, all_scores.mean(axis=0), height=0.6)\n",
    "    plt.yticks(y_labels, y_labels)\n",
    "\n",
    "    font = {'family': 'normal',\n",
    "            'size': 26}\n",
    "    plt.rc('font', **font)\n",
    "\n",
    "    plt.ylabel(\"Number of Players\")\n",
    "    plt.xlabel(\"Avg. Score\")\n",
    "    plt.title('Benchmarking of Rule Based Agents 1000 Trials'.format(flags['num_episodes']))\n",
    "\n",
    "    for i, rect in enumerate(rects):\n",
    "\n",
    "        rect.set_color(colors[i])\n",
    "        height = rect.get_height()\n",
    "        #plt.text(rect.get_x() + rect.get_height()/2., 1.05*height,\n",
    "         #        str(height), ha='center', va='bottom')\n",
    "    \n",
    "    plt.savefig(\"Benchmarking_rule_based\")\n",
    "    plt.show()"
   ]
  },
  {
   "cell_type": "code",
   "execution_count": null,
   "metadata": {},
   "outputs": [],
   "source": []
  }
 ],
 "metadata": {
  "kernelspec": {
   "display_name": "Python 3",
   "language": "python",
   "name": "python3"
  },
  "language_info": {
   "codemirror_mode": {
    "name": "ipython",
    "version": 3
   },
   "file_extension": ".py",
   "mimetype": "text/x-python",
   "name": "python",
   "nbconvert_exporter": "python",
   "pygments_lexer": "ipython3",
   "version": "3.5.2"
  }
 },
 "nbformat": 4,
 "nbformat_minor": 2
}
